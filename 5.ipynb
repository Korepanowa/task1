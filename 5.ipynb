{
 "cells": [
  {
   "cell_type": "code",
   "execution_count": 2,
   "metadata": {},
   "outputs": [
    {
     "name": "stdout",
     "output_type": "stream",
     "text": [
      "{'Понедельник': ['Алгебра', 'Геометрия', 'Химия', 'География', 'ИЗО'], 'Вторник': ['Химия', 'Геометрия', 'История', 'Литература'], 'Среда': ['География', 'Алгебра', 'Геометрия', 'История', 'Физика'], 'Четверг': ['Алгебра', 'Геометрия', 'Геометрия'], 'Пятница': ['Алгебра', 'Алгебра', 'Физика', 'Физика']}\n",
      "['Алгебра', 'Геометрия', 'Геометрия']\n"
     ]
    }
   ],
   "source": [
    "#В качестве предметной области было выбрано школьное рассписание:\n",
    "\n",
    "subjects = 'Алгебра','Геометрия','Химия','Физика','География','История','Литература','ИЗО'\n",
    "\n",
    "days = 'Понедельник','Вторник','Среда','Четверг','Пятница'\n",
    "\n",
    "asking_for_lessons = {\n",
    "    days[0]:[subjects[0],subjects[1],subjects[2],subjects[4],subjects[7]],\n",
    "    days[1]:[subjects[2],subjects[1],subjects[5],subjects[6]],\n",
    "    days[2]:[subjects[4],subjects[0],subjects[1],subjects[5],subjects[3]],\n",
    "    days[3]:[subjects[0],subjects[1],subjects[1]],\n",
    "    days[4]:[subjects[0],subjects[0],subjects[3],subjects[3]]\n",
    "}\n",
    "print(asking_for_lessons)\n",
    "print(asking_for_lessons[days[3]])"
   ]
  }
 ],
 "metadata": {
  "kernelspec": {
   "display_name": "Python 3.10.7 64-bit",
   "language": "python",
   "name": "python3"
  },
  "language_info": {
   "codemirror_mode": {
    "name": "ipython",
    "version": 3
   },
   "file_extension": ".py",
   "mimetype": "text/x-python",
   "name": "python",
   "nbconvert_exporter": "python",
   "pygments_lexer": "ipython3",
   "version": "3.10.7"
  },
  "orig_nbformat": 4,
  "vscode": {
   "interpreter": {
    "hash": "fb4569285eef3a3450cb62085a5b1e0da4bce0af555edc33dcf29baf3acc1368"
   }
  }
 },
 "nbformat": 4,
 "nbformat_minor": 2
}

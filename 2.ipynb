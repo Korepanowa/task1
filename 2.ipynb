{
 "cells": [
  {
   "cell_type": "code",
   "execution_count": 1,
   "metadata": {},
   "outputs": [
    {
     "name": "stdout",
     "output_type": "stream",
     "text": [
      "('biology', 'physics', 'geometry')\n",
      "biology\n",
      "physics\n",
      "geometry\n",
      "('biology', 'chemistry', 'physics')\n"
     ]
    }
   ],
   "source": [
    "#Перейдём к созданию кортежей:\n",
    "k = ()\n",
    "k1 = 'biology', 'physics', 'geometry'\n",
    "print(k1)\n",
    "\n",
    "#Присвоим каждому элементу переменную:\n",
    "b,p,g = k1\n",
    "print(b)\n",
    "print(p)\n",
    "print(g)\n",
    "\n",
    "#Создадим кортеж из списка:\n",
    "subjects = ['biology','chemistry','physics']\n",
    "k_subjects = tuple(subjects)\n",
    "k_subjects = tuple(subjects)\n",
    "print(k_subjects)\n"
   ]
  }
 ],
 "metadata": {
  "kernelspec": {
   "display_name": "Python 3.10.7 64-bit",
   "language": "python",
   "name": "python3"
  },
  "language_info": {
   "codemirror_mode": {
    "name": "ipython",
    "version": 3
   },
   "file_extension": ".py",
   "mimetype": "text/x-python",
   "name": "python",
   "nbconvert_exporter": "python",
   "pygments_lexer": "ipython3",
   "version": "3.10.7"
  },
  "orig_nbformat": 4,
  "vscode": {
   "interpreter": {
    "hash": "fb4569285eef3a3450cb62085a5b1e0da4bce0af555edc33dcf29baf3acc1368"
   }
  }
 },
 "nbformat": 4,
 "nbformat_minor": 2
}

{
 "cells": [
  {
   "cell_type": "code",
   "execution_count": 1,
   "metadata": {},
   "outputs": [
    {
     "name": "stdout",
     "output_type": "stream",
     "text": [
      "{74, 13, 86, 55}\n",
      "{74, 13}\n",
      "{7, 74, 11, 44, 13, 86, 55}\n",
      "{11, 44, 7}\n",
      "{7, 11, 44, 86, 55}\n",
      "False\n",
      "True\n"
     ]
    }
   ],
   "source": [
    "#Рассмотрим создание множеств:\n",
    "s1 = set()\n",
    "s2 = {13,55,74,86}\n",
    "print(s2)\n",
    "\n",
    "#Рассмотрим операцию пересечения:\n",
    "s3 = {44,11,7,13,74}\n",
    "print(s2 & s3)\n",
    "\n",
    "#Объединим множества:\n",
    "print(s3.union(s2))\n",
    "\n",
    "#Рассмотрим разность множеств:\n",
    "print(s3.difference(s2))\n",
    "\n",
    "#Операция исключающего ИЛИ:\n",
    "print(s3.symmetric_difference(s2))\n",
    "\n",
    "#Проверим, является ли множество подмножеством другого:\n",
    "print(s3.issubset(s2))\n",
    "print(s3.issubset(s3))"
   ]
  }
 ],
 "metadata": {
  "kernelspec": {
   "display_name": "Python 3.10.7 64-bit",
   "language": "python",
   "name": "python3"
  },
  "language_info": {
   "codemirror_mode": {
    "name": "ipython",
    "version": 3
   },
   "file_extension": ".py",
   "mimetype": "text/x-python",
   "name": "python",
   "nbconvert_exporter": "python",
   "pygments_lexer": "ipython3",
   "version": "3.10.7"
  },
  "orig_nbformat": 4,
  "vscode": {
   "interpreter": {
    "hash": "fb4569285eef3a3450cb62085a5b1e0da4bce0af555edc33dcf29baf3acc1368"
   }
  }
 },
 "nbformat": 4,
 "nbformat_minor": 2
}

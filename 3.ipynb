{
 "cells": [
  {
   "cell_type": "code",
   "execution_count": 1,
   "metadata": {},
   "outputs": [
    {
     "name": "stdout",
     "output_type": "stream",
     "text": [
      "{'d1': 'Алгебра', 'd2': 'Геометрия', 'd3': 'Литература', 'd4': 'Физика', 'd5': 'Химия'}\n",
      "{'d1': 'Алгебра', 'd2': 'Геометрия', 'd3': 'География', 'd4': 'Физика', 'd5': 'Химия'}\n",
      "{'d1': 'Алгебра', 'd2': 'Геометрия', 'd3': 'География', 'd4': 'Физика', 'd5': 'Химия', 'i1': 'История', 'i2': 'Биология', 'i3': 'Обществознание'}\n",
      "{'d1': 'Алгебра', 'd2': 'Геометрия', 'd3': 'География', 'd4': 'Физика', 'd5': 'Химия', 'i1': 'История', 'i3': 'Обществознание'}\n",
      "True\n",
      "False\n",
      "Обществознание\n",
      "{}\n"
     ]
    }
   ],
   "source": [
    "#Перейдём к созданию словарей:\n",
    "dictionary1 = {}\n",
    "dictionary2 = {\n",
    "    \"d1\":\"Алгебра\",\n",
    "    \"d2\":\"Геометрия\",\n",
    "    \"d3\":\"Литература\",\n",
    "    \"d4\":\"Физика\",\n",
    "    \"d5\":\"Химия\",\n",
    "}\n",
    "print(dictionary2)\n",
    "\n",
    "#Изменим элемент d3:\n",
    "dictionary2['d3'] = 'География'\n",
    "print(dictionary2)\n",
    "\n",
    "#Создадим ещё один словарь:\n",
    "dictionary3 = {'i1':'История','i2':'Биология','i3':'Обществознание'}\n",
    "dictionary2.update(dictionary3)\n",
    "print(dictionary2)\n",
    "\n",
    "#Удалим элемент со значением \"Биология\":\n",
    "del dictionary2['i2']\n",
    "print(dictionary2)\n",
    "\n",
    "#Проверим, есть ли в словаре необходимый элемент:\n",
    "print('d4' in dictionary2)\n",
    "print('i5' in dictionary2)\n",
    "\n",
    "#Получим элемент:\n",
    "print(dictionary2['i3'])\n",
    "\n",
    "#Удалим все элементы в словаре:\n",
    "dictionary2.clear()\n",
    "print(dictionary2)"
   ]
  }
 ],
 "metadata": {
  "kernelspec": {
   "display_name": "Python 3.10.7 64-bit",
   "language": "python",
   "name": "python3"
  },
  "language_info": {
   "codemirror_mode": {
    "name": "ipython",
    "version": 3
   },
   "file_extension": ".py",
   "mimetype": "text/x-python",
   "name": "python",
   "nbconvert_exporter": "python",
   "pygments_lexer": "ipython3",
   "version": "3.10.7"
  },
  "orig_nbformat": 4,
  "vscode": {
   "interpreter": {
    "hash": "fb4569285eef3a3450cb62085a5b1e0da4bce0af555edc33dcf29baf3acc1368"
   }
  }
 },
 "nbformat": 4,
 "nbformat_minor": 2
}

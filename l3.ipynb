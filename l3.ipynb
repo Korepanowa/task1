{
 "cells": [
  {
   "cell_type": "code",
   "execution_count": 18,
   "metadata": {},
   "outputs": [
    {
     "name": "stdout",
     "output_type": "stream",
     "text": [
      "Рассписание на  Пон 07.11.22 следующее: Алгебра, Алгебра, Химия, Физ-ра, Русский язык, Литература \n",
      "Рассписание на  Вт 08.11.22 следующее: Физика, Биология, Геометрия, Физ-ра, ,  \n",
      "Рассписание на  Ср 09.11.22 следующее: Алгебра, Русский язык, География, ИЗО, Химия, Физика Иностранный язык\n",
      "Рассписание на  Чет 10.11.22 следующее: Алгебра, Алгебра, История, Иностранный язык, Русский язык, Литература \n",
      "Рассписание на  Пят 11.11.22 следующее: Биология, Алгебра, Геометрия, Физ-ра, ,  \n",
      "Урок третий изменён на Литература\n",
      "Урок второй изменён на Русский язык\n",
      "Дата: 12.11.22 успешно установлена\n",
      "День недели: \" Субб \" успешно установлен\n",
      "Рассписание на  Ср 09.11.22 следующее: Алгебра, Русский язык Литература ИЗО, Химия, Физика Иностранный язык\n",
      "Рассписание на  Субб 12.11.22 следующее: Алгебра, Алгебра, История, Иностранный язык, Русский язык, Литература \n"
     ]
    }
   ],
   "source": [
    "#Изменение школьного рассписания:\n",
    "class asking_for_lessons:\n",
    " def __init__(self, date, weekday, lesson1,  lesson2, lesson3, lesson4, lesson5, lesson6, lesson7):\n",
    "        self.date = date\n",
    "        self.weekday = weekday\n",
    "        self.lesson1 = lesson1\n",
    "        self.lesson2 = lesson2\n",
    "        self.lesson3 = lesson3\n",
    "        self.lesson4 = lesson4\n",
    "        self.lesson5 = lesson5\n",
    "        self.lesson6 = lesson6\n",
    "        self.lesson7 = lesson7\n",
    "\n",
    " def setting_date(self, date): #Изменение даты в определённый день\n",
    "    self.date = date\n",
    "    print('Дата:', date, 'успешно установлена')\n",
    "\n",
    " def setting_weekday(self, weekday): #Изменение дня недели\n",
    "    self.weekday = weekday\n",
    "    print('День недели: \"', weekday, '\" успешно установлен')\n",
    "\n",
    " def setting_lesson1(self, lesson1): #Изменение первого урока\n",
    "    self.lesson1 = lesson1\n",
    "    print('Урок первый изменён на', lesson1)\n",
    "\n",
    " def setting_lesson2(self, lesson2): #Изменение второго урока\n",
    "    self.lesson2 = lesson2\n",
    "    print('Урок второй изменён на', lesson2)  \n",
    "\n",
    " def setting_lesson3(self, lesson3): #Изменение третьего урока и т.д.\n",
    "    self.lesson3 = lesson3\n",
    "    print('Урок третий изменён на', lesson3)\n",
    "\n",
    " def setting_lesson4(self, lesson4): \n",
    "    self.lesson4 = lesson4\n",
    "    print('Урок четвёртый изменён на', lesson4)\n",
    "\n",
    " def setting_lesson5(self, lesson5): \n",
    "    self.lesson5 = lesson5\n",
    "    print('Урок пятый изменён на', lesson5)\n",
    "\n",
    " def setting_lesson6(self, lesson6): \n",
    "    self.lesson6 = lesson6\n",
    "    print('Урок шестой изменён на', lesson6)\n",
    "\n",
    " def setting_lesson7(self, lesson7): \n",
    "    self.lesson7 = lesson7\n",
    "    print('Урок седьмой изменён на', lesson7) \n",
    "\n",
    "def afl(self): #Вывод рассписания в данный день\n",
    " print('Рассписание на ', self.weekday, self.date, 'следующее:', self.lesson1, self.lesson2, self.lesson3, self.lesson4, self.lesson5, self.lesson6, self.lesson7)\n",
    "\n",
    "\n",
    "#Заполнение рассписания\n",
    "D1 = asking_for_lessons('07.11.22','Пон','Алгебра,','Алгебра,','Химия,','Физ-ра,','Русский язык,','Литература','')  \n",
    "D2 = asking_for_lessons('08.11.22','Вт','Физика,','Биология,','Геометрия,','Физ-ра,',',','','')    \n",
    "D3 = asking_for_lessons('09.11.22','Ср','Алгебра,','Русский язык,','География,','ИЗО,','Химия,','Физика','Иностранный язык')  \n",
    "D4 = asking_for_lessons('10.11.22','Чет','Алгебра,','Алгебра,','История,','Иностранный язык,','Русский язык,','Литература','')  \n",
    "D5 = asking_for_lessons('11.11.22','Пят','Биология,','Алгебра,','Геометрия,','Физ-ра,',',','','')  \n",
    "\n",
    "#Вывод рассписания\n",
    "afl(D1)  \n",
    "afl(D2)\n",
    "afl(D3)\n",
    "afl(D4)\n",
    "afl(D5)  \n",
    "\n",
    "#Изменение рассписания\n",
    "D3.setting_lesson3('Литература')\n",
    "D3.setting_lesson2('Русский язык')\n",
    "D4.setting_date('12.11.22')\n",
    "D4.setting_weekday('Субб')\n",
    "\n",
    "afl(D3)\n",
    "afl(D4)\n",
    "\n",
    "\n",
    " \n",
    "\n"
   ]
  },
  {
   "cell_type": "code",
   "execution_count": 23,
   "metadata": {},
   "outputs": [
    {
     "name": "stdout",
     "output_type": "stream",
     "text": [
      "<class 'str'>\n",
      "<class 'dict'>\n"
     ]
    }
   ],
   "source": [
    "#Рассмотрим разницу между __repr__ и __str__\n",
    "class subjects:\n",
    "    title = ''\n",
    "    discription = ''\n",
    "\n",
    "    def __init__(self, title, discription):\n",
    "        self.title = title\n",
    "        self.discription = discription\n",
    "\n",
    " #Если необходимо возвратить любое представление объекта, то следует использовать __repr__\n",
    "    def __repr__(self):                       \n",
    "        return {'Название предмета:': self.title, 'Описание предмета': self.discription}\n",
    " #Но __str__  возвращает только строковое значение объекта\n",
    "    def __str__(self):                               \n",
    "        return 'subjects(Название предмета: '+self.title+', описание: '+self.discription+')'\n",
    "\n",
    "sb1 = subjects('География', 'Расширение границ познания')\n",
    "sb2 = subjects('Русский язык', 'Даже русские его не знают...')\n",
    "                                           \n",
    "print(type(sb1.__str__()))                               \n",
    "\n",
    "print(type(sb2.__repr__()))  "
   ]
  },
  {
   "cell_type": "code",
   "execution_count": 31,
   "metadata": {},
   "outputs": [
    {
     "name": "stdout",
     "output_type": "stream",
     "text": [
      "39\n",
      "78\n"
     ]
    }
   ],
   "source": [
    "#Создадим счётчик\n",
    "class counter:\n",
    "    def __init__(self):\n",
    "        self.__counter = 0\n",
    "    \n",
    "    def __call__(self, *args, **kwargs):\n",
    "        self.__counter += 13\n",
    "        return self.__counter\n",
    "\n",
    "k1 = counter()\n",
    "k1()\n",
    "k1()\n",
    "\n",
    "k2 = counter()\n",
    "k2()\n",
    "k2()\n",
    "k2()\n",
    "k2()\n",
    "k2()\n",
    "\n",
    "result1 = k1()\n",
    "print(result1)\n",
    "\n",
    "result2 = k2()\n",
    "print(result2)\n",
    "\n"
   ]
  }
 ],
 "metadata": {
  "kernelspec": {
   "display_name": "Python 3.10.7 64-bit",
   "language": "python",
   "name": "python3"
  },
  "language_info": {
   "codemirror_mode": {
    "name": "ipython",
    "version": 3
   },
   "file_extension": ".py",
   "mimetype": "text/x-python",
   "name": "python",
   "nbconvert_exporter": "python",
   "pygments_lexer": "ipython3",
   "version": "3.10.7"
  },
  "orig_nbformat": 4,
  "vscode": {
   "interpreter": {
    "hash": "fb4569285eef3a3450cb62085a5b1e0da4bce0af555edc33dcf29baf3acc1368"
   }
  }
 },
 "nbformat": 4,
 "nbformat_minor": 2
}

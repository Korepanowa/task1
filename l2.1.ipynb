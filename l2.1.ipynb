{
 "cells": [
  {
   "cell_type": "code",
   "execution_count": 8,
   "metadata": {},
   "outputs": [
    {
     "name": "stdout",
     "output_type": "stream",
     "text": [
      "Понедельник: Алгебра Алгебра Физика Литература\n",
      "Вторник: Алгебра Обществознание Физика География\n",
      "Среда: Литература Литература Физика Алгебра\n",
      "Четверг: География Литература Физика Алгебра\n",
      "Пятница: Алгебра Алгебра Обществознание Литература\n",
      "Понедельник: Алгебра Алгебра Физика Литература\n",
      "Вторник: Алгебра Обществознание Физика География\n",
      "Среда: Литература Литература Физика Алгебра\n",
      "Четверг: География Литература Физика Алгебра\n",
      "Пятница: Алгебра Алгебра Обществознание Литература\n",
      "Понедельник: Геометрия Геометрия История ИЗО\n",
      "Вторник: Геометрия Химия История География\n",
      "Среда: ИЗО ИЗО История Геометрия\n",
      "Четверг: География ИЗО История Геометрия\n",
      "Пятница: Геометрия Геометрия Химия ИЗО\n"
     ]
    }
   ],
   "source": [
    "#!/usr/bin/env python3\n",
    "# -*- coding: utf-8 -*-\n",
    "\n",
    "#Организуем кодовую базу в соответствии с требованиями PEP8\n",
    "#Области видимости \n",
    "#Получим значения глобальных переменных внутри функции, например, вернёмся к рассписанию:\n",
    "subjects1 = 'Алгебра'\n",
    "subjects2 = 'Химия'\n",
    "subjects3 = 'Физика'\n",
    "subjects4 = 'География'\n",
    "subjects5 = 'Литература'\n",
    "def global_asking_for_lessons():\n",
    "    print('Понедельник:', subjects1, subjects1, subjects3, subjects5)\n",
    "    print('Вторник:', subjects1, subjects2, subjects3, subjects4)\n",
    "    print('Среда:', subjects5, subjects5, subjects3, subjects1)\n",
    "    print('Четверг:', subjects4, subjects5, subjects3, subjects1)\n",
    "    print('Пятница:', subjects1, subjects1, subjects2, subjects5)\n",
    "    \n",
    "\n",
    "#Теперь попробуем создать локальные переменные внутри функции, даже если задать им имена глобальных переменных, на сами глобальные переменные никакого влияния не будет.\n",
    "def local_asking_for_lessons():\n",
    "    subjects1 = 'Геометрия'\n",
    "    subjects2 = 'Химия'\n",
    "    subjects3 = 'История'\n",
    "    subjects4 = 'География'\n",
    "    subjects5 = 'ИЗО'\n",
    "    print('Понедельник:', subjects1, subjects1, subjects3, subjects5)\n",
    "    print('Вторник:', subjects1, subjects2, subjects3, subjects4)\n",
    "    print('Среда:', subjects5, subjects5, subjects3, subjects1)\n",
    "    print('Четверг:', subjects4, subjects5, subjects3, subjects1)\n",
    "    print('Пятница:', subjects1, subjects1, subjects2, subjects5)\n",
    "\n",
    "#Если понадобиться получить доступ именно к глобальной переменной внутри функции, то стоит использовать слово global:\n",
    "def global_in_local_asking_for_lessons():\n",
    "    global subjects2 \n",
    "    subjects2 = 'Обществознание'\n",
    "    print('Понедельник:', subjects1, subjects1, subjects3, subjects5)\n",
    "    print('Вторник:', subjects1, subjects2, subjects3, subjects4)\n",
    "    print('Среда:', subjects5, subjects5, subjects3, subjects1)\n",
    "    print('Четверг:', subjects4, subjects5, subjects3, subjects1)\n",
    "    print('Пятница:', subjects1, subjects1, subjects2, subjects5)\n",
    "\n",
    "\n",
    "\n",
    "def main():#Изменение глобальной переменной из функции зависит от порядка вызова функций:\n",
    "    global_in_local_asking_for_lessons()\n",
    "    global_asking_for_lessons()\n",
    "    local_asking_for_lessons()\n",
    "\n",
    "if __name__ == '__main__':\n",
    "    main()\n",
    "\n",
    "    "
   ]
  }
 ],
 "metadata": {
  "kernelspec": {
   "display_name": "Python 3.10.7 64-bit",
   "language": "python",
   "name": "python3"
  },
  "language_info": {
   "codemirror_mode": {
    "name": "ipython",
    "version": 3
   },
   "file_extension": ".py",
   "mimetype": "text/x-python",
   "name": "python",
   "nbconvert_exporter": "python",
   "pygments_lexer": "ipython3",
   "version": "3.10.7"
  },
  "orig_nbformat": 4,
  "vscode": {
   "interpreter": {
    "hash": "fb4569285eef3a3450cb62085a5b1e0da4bce0af555edc33dcf29baf3acc1368"
   }
  }
 },
 "nbformat": 4,
 "nbformat_minor": 2
}
